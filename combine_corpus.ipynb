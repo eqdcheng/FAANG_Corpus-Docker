{
 "metadata": {
  "language_info": {
   "codemirror_mode": {
    "name": "ipython",
    "version": 3
   },
   "file_extension": ".py",
   "mimetype": "text/x-python",
   "name": "python",
   "nbconvert_exporter": "python",
   "pygments_lexer": "ipython3",
   "version": "3.7.8-final"
  },
  "orig_nbformat": 2,
  "kernelspec": {
   "name": "python3",
   "display_name": "Python 3.7.8 64-bit ('571': conda)",
   "metadata": {
    "interpreter": {
     "hash": "8bcdc4bdd7902f59b4399cbf97ba5a4fa03b4b433427ca075b14b3e31b235e25"
    }
   }
  }
 },
 "nbformat": 4,
 "nbformat_minor": 2,
 "cells": [
  {
   "cell_type": "code",
   "execution_count": 1,
   "metadata": {},
   "outputs": [],
   "source": [
    "import uuid\n",
    "import os \n",
    "import json\n",
    "import pandas as pd \n",
    "from collections import defaultdict\n",
    "from vaderSentiment.vaderSentiment import SentimentIntensityAnalyzer"
   ]
  },
  {
   "cell_type": "code",
   "execution_count": 2,
   "metadata": {},
   "outputs": [
    {
     "output_type": "stream",
     "name": "stdout",
     "text": [
      "read annot\n"
     ]
    }
   ],
   "source": [
    "turk_annotations = pd.read_csv(f'{os.getcwd()}/corpus/annotations_final.csv')\n",
    "print(\"read annot\")"
   ]
  },
  {
   "cell_type": "code",
   "execution_count": 3,
   "metadata": {},
   "outputs": [
    {
     "output_type": "stream",
     "name": "stdout",
     "text": [
      "read json\n"
     ]
    }
   ],
   "source": [
    "with open(f'{os.getcwd()}/corpus/corpus.json', 'r') as j:\n",
    "     corpus = json.loads(j.read())\n",
    "\n",
    "print(\"read json\")"
   ]
  },
  {
   "cell_type": "code",
   "execution_count": 4,
   "metadata": {},
   "outputs": [],
   "source": [
    "annotations_texts = turk_annotations['text'].to_list()\n",
    "annotations_labels = turk_annotations['label'].to_list()"
   ]
  },
  {
   "cell_type": "code",
   "execution_count": 5,
   "metadata": {},
   "outputs": [],
   "source": [
    "analyzer = SentimentIntensityAnalyzer()"
   ]
  },
  {
   "cell_type": "code",
   "execution_count": 6,
   "metadata": {},
   "outputs": [],
   "source": [
    "combined_corpus = []\n",
    "for post in corpus:\n",
    "    annotations_included = 0\n",
    "    document = defaultdict(str)\n",
    "    document['uuid'] = str(uuid.uuid4())\n",
    "\n",
    "    for key, value in post.items():\n",
    "        # add original key values\n",
    "        if key != 'text':\n",
    "            document[key] = post[key]\n",
    "        else:\n",
    "            document[key] = post[key].lower()\n",
    "\n",
    "    try:\n",
    "        anot_index = annotations_texts.index(post['text'])\n",
    "        anot_label = annotations_labels[anot_index]\n",
    "        document['turkAnnotated'] = 'True'\n",
    "        document['turkAnnotation'] = str(anot_label)\n",
    "        annotations_included += 1 \n",
    "    except:\n",
    "        document['turkAnnotated'] = 'False'\n",
    "        document['turkAnnotation'] = 'N/A'\n",
    "\n",
    "    document['vaderCompound'] = str(analyzer.polarity_scores(document['text'])['compound'])\n",
    "    if float(document['vaderCompound']) >= 0:\n",
    "        document['vaderSentiment'] = 'Positive'\n",
    "    else:\n",
    "        document['vaderSentiment'] = 'Negative'\n",
    "    combined_corpus.append(document)"
   ]
  },
  {
   "cell_type": "code",
   "execution_count": 7,
   "metadata": {},
   "outputs": [
    {
     "output_type": "execute_result",
     "data": {
      "text/plain": [
       "defaultdict(str,\n",
       "            {'uuid': 'cb6b8588-1e95-4f6c-92fa-d94d3ab4096e',\n",
       "             'title': 'GME 🌈🐻 Short position',\n",
       "             'date': '2020-12-27 13:52:03',\n",
       "             'text': \"***msft***gme  short position this post is to inverse wsb , well because you know why . let ' s do some half ass  dd , maybe a bull can change my mind . facts of gme : b   ; m stores are dying and have been dying for quite some time . every video game in the very near future will be digital , thus putting less of a need for b   ; m stores . gme is the most shorted stock . gme stock was at $ 5 prior to covid and was on a crazy decline . what changed since covid hit , and bankruptcy for this company that makes it so valuable to autists . there is no trade in value for digital games . where do people think gamestop will cover revenue that can ' t be directly outsourced to a much better supplier such as msft , sony , best buy and more . gme is too much of a novelty and has continued to fail at adapting to the digital trend , aka which is was continued to kill this company and their terrible business model . so with everything becoming digital , gme is no wear near microsoft etc where all the same products can be purchased , with much better customer support , where does the value rest in this company . change my mind , i ' m open to legit information , correct me if i ' m wrong on any of this , until then -out .\",\n",
       "             'subreddit': 'wallstreetbets',\n",
       "             'upvotes': '1',\n",
       "             'equity': 'MSFT',\n",
       "             'turkAnnotated': 'False',\n",
       "             'turkAnnotation': 'N/A',\n",
       "             'vaderCompound': '-0.2752',\n",
       "             'vaderSentiment': 'Negative'})"
      ]
     },
     "metadata": {},
     "execution_count": 7
    }
   ],
   "source": [
    "combined_corpus[8]"
   ]
  },
  {
   "cell_type": "code",
   "execution_count": 8,
   "metadata": {},
   "outputs": [],
   "source": [
    "with open(f'{os.getcwd()}/Corpus/annotated_corpus.json', 'w') as fout:\n",
    "    json.dump(combined_corpus, fout)"
   ]
  }
 ]
}